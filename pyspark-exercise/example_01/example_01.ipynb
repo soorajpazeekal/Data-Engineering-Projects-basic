{
 "cells": [
  {
   "cell_type": "code",
   "execution_count": 1,
   "id": "dc1f98d0-6778-4c8f-b7e3-3f6f55c82170",
   "metadata": {},
   "outputs": [],
   "source": [
    "import findspark\n",
    "findspark.init()\n",
    "\n",
    "from pyspark.sql import SparkSession\n",
    "from pyspark.sql import StructType\n"
   ]
  },
  {
   "cell_type": "code",
   "execution_count": 62,
   "id": "2bb4e681-4c88-41d4-98a2-7f1f8911012b",
   "metadata": {},
   "outputs": [
    {
     "data": {
      "text/html": [
       "\n",
       "            <div>\n",
       "                <p><b>SparkSession - in-memory</b></p>\n",
       "                \n",
       "        <div>\n",
       "            <p><b>SparkContext</b></p>\n",
       "\n",
       "            <p><a href=\"http://172.21.110.210:4040\">Spark UI</a></p>\n",
       "\n",
       "            <dl>\n",
       "              <dt>Version</dt>\n",
       "                <dd><code>v3.3.2</code></dd>\n",
       "              <dt>Master</dt>\n",
       "                <dd><code>local[12]</code></dd>\n",
       "              <dt>AppName</dt>\n",
       "                <dd><code>ProjectPro</code></dd>\n",
       "            </dl>\n",
       "        </div>\n",
       "        \n",
       "            </div>\n",
       "        "
      ],
      "text/plain": [
       "<pyspark.sql.session.SparkSession at 0x7f3734515960>"
      ]
     },
     "execution_count": 62,
     "metadata": {},
     "output_type": "execute_result"
    }
   ],
   "source": [
    "spark = SparkSession.builder.master(\"local[*]\") \\\n",
    "                    .appName('ProjectPro') \\\n",
    "                    .getOrCreate()\n",
    "spark"
   ]
  },
  {
   "cell_type": "code",
   "execution_count": 63,
   "id": "c8705bd9-1c47-4270-9cd8-c68b7ebb1236",
   "metadata": {},
   "outputs": [
    {
     "name": "stdout",
     "output_type": "stream",
     "text": [
      "root\n",
      " |-- Company Name: string (nullable = true)\n",
      " |-- Contact Person: string (nullable = true)\n",
      " |-- Location: string (nullable = true)\n",
      " |-- Country: string (nullable = true)\n",
      " |-- Phone Number: string (nullable = true)\n",
      " |-- Email: string (nullable = true)\n",
      " |-- Services Offered: string (nullable = true)\n",
      " |-- Fleet Details: string (nullable = true)\n",
      " |-- License Information: string (nullable = true)\n",
      " |-- Insurance Details: string (nullable = true)\n",
      " |-- Operating Hours: string (nullable = true)\n",
      " |-- Employee Details: string (nullable = true)\n",
      " |-- Safety Procedures: string (nullable = true)\n",
      "\n"
     ]
    }
   ],
   "source": [
    "df = spark.read.option(\"delimiter\", \";\").option(\"header\", True).csv(\"input/logistic_data.csv\")\n",
    "df.printSchema()"
   ]
  },
  {
   "cell_type": "code",
   "execution_count": 54,
   "id": "97d6a541-de00-44bb-8ea6-7c88dc208356",
   "metadata": {},
   "outputs": [],
   "source": [
    "from pyspark.sql.functions import col\n",
    "\n",
    "filter_df = df.filter(col(\"Safety Procedures\") == \"Gasoline\")\n",
    "temp_df = df.select(\"Location\", \"Safety Procedures\")"
   ]
  },
  {
   "cell_type": "code",
   "execution_count": 55,
   "id": "e449256c-87f2-432c-b5f6-8b75153526bd",
   "metadata": {},
   "outputs": [
    {
     "name": "stdout",
     "output_type": "stream",
     "text": [
      "+----------------+-----------------+\n",
      "|        Location|Safety Procedures|\n",
      "+----------------+-----------------+\n",
      "|    Antonioshire|           Hybrid|\n",
      "|  New Craigfield|         Gasoline|\n",
      "|    Luettgenstad|         Gasoline|\n",
      "|      Tyshawnton|         Gasoline|\n",
      "| Fort Arvidfield|         Gasoline|\n",
      "|     Littlestead|         Gasoline|\n",
      "|      Somerville|         Gasoline|\n",
      "|      North Wava|           Hybrid|\n",
      "|      Port Tiara|           Diesel|\n",
      "|      Turnerport|         Electric|\n",
      "|  South Curtport|           Hybrid|\n",
      "|    Jennyferfurt|           Hybrid|\n",
      "|    Mauricioland|           Hybrid|\n",
      "| Lake Kayleebury|         Electric|\n",
      "|     West Darian|         Electric|\n",
      "|    West Kipview|           Diesel|\n",
      "|        Lake Rod|           Diesel|\n",
      "|    Courtneyberg|         Gasoline|\n",
      "|    Raymondville|         Electric|\n",
      "|South Adonisland|         Gasoline|\n",
      "+----------------+-----------------+\n",
      "only showing top 20 rows\n",
      "\n"
     ]
    }
   ],
   "source": [
    "temp_df.show()"
   ]
  },
  {
   "cell_type": "code",
   "execution_count": 69,
   "id": "21646b42-8f0d-48d7-90b3-e5c306e7a57e",
   "metadata": {},
   "outputs": [
    {
     "name": "stdout",
     "output_type": "stream",
     "text": [
      "+-----------------+-----+\n",
      "|         Location|count|\n",
      "+-----------------+-----+\n",
      "|      Littlestead|    1|\n",
      "|        Worcester|    3|\n",
      "|     Kreigerfield|    2|\n",
      "|Altenwerthchester|    1|\n",
      "|      New Candace|    1|\n",
      "|  West Adellestad|    1|\n",
      "|      Carmineberg|    1|\n",
      "|      Keelingview|    1|\n",
      "|        Austinton|    1|\n",
      "|    Wilsonchester|    1|\n",
      "|      Watersfield|    2|\n",
      "|        Royaltown|    1|\n",
      "|            Tyler|    2|\n",
      "|       Aidanhaven|    1|\n",
      "|     Maurinestead|    1|\n",
      "|       Fort Korey|    1|\n",
      "|        Klingfurt|    1|\n",
      "|       Skilestown|    2|\n",
      "|        Mayerboro|    1|\n",
      "|       Torphyland|    2|\n",
      "+-----------------+-----+\n",
      "only showing top 20 rows\n",
      "\n"
     ]
    }
   ],
   "source": [
    "tra_df = df.groupBy(\"Location\").count()\n",
    "\n",
    "tra_df.show()"
   ]
  },
  {
   "cell_type": "code",
   "execution_count": 57,
   "id": "80e67145-ef62-49fa-90ca-bbc495cef114",
   "metadata": {},
   "outputs": [],
   "source": [
    "temp_df.write.csv(\"test.csv\")"
   ]
  },
  {
   "cell_type": "code",
   "execution_count": 58,
   "id": "2723804f-0fec-4c1a-a5e3-0d05fa0c5435",
   "metadata": {},
   "outputs": [],
   "source": [
    "spark.stop()"
   ]
  },
  {
   "cell_type": "code",
   "execution_count": null,
   "id": "b07c0b22-3949-4753-9304-6a0ec7bedb3d",
   "metadata": {},
   "outputs": [],
   "source": []
  }
 ],
 "metadata": {
  "kernelspec": {
   "display_name": "Python 3 (ipykernel)",
   "language": "python",
   "name": "python3"
  },
  "language_info": {
   "codemirror_mode": {
    "name": "ipython",
    "version": 3
   },
   "file_extension": ".py",
   "mimetype": "text/x-python",
   "name": "python",
   "nbconvert_exporter": "python",
   "pygments_lexer": "ipython3",
   "version": "3.10.13"
  }
 },
 "nbformat": 4,
 "nbformat_minor": 5
}
